{
 "cells": [
  {
   "cell_type": "markdown",
   "id": "63cfb456",
   "metadata": {},
   "source": [
    "# Azure Prediction API - Object Detection"
   ]
  },
  {
   "cell_type": "code",
   "execution_count": null,
   "id": "a18bb861",
   "metadata": {},
   "outputs": [],
   "source": [
    "# pip install azure-cognitiveservices-vision-customvision\n",
    "# pip install azure-cli"
   ]
  },
  {
   "cell_type": "markdown",
   "id": "43fd3720",
   "metadata": {},
   "source": [
    "## Import dependencies"
   ]
  },
  {
   "cell_type": "code",
   "execution_count": 29,
   "id": "1c799b29",
   "metadata": {},
   "outputs": [],
   "source": [
    "from azure.cognitiveservices.vision.customvision.prediction import CustomVisionPredictionClient\n",
    "from azure.cognitiveservices.vision.customvision.training import CustomVisionTrainingClient\n",
    "from azure.cognitiveservices.vision.customvision.prediction import CustomVisionPredictionClient\n",
    "from azure.cognitiveservices.vision.customvision.training.models import ImageFileCreateBatch, ImageFileCreateEntry, Region\n",
    "from msrest.authentication import ApiKeyCredentials\n",
    "import os, time, uuid"
   ]
  },
  {
   "cell_type": "markdown",
   "id": "9cfe90a7",
   "metadata": {},
   "source": [
    "## Setup connection"
   ]
  },
  {
   "cell_type": "code",
   "execution_count": 6,
   "id": "438cdb3e",
   "metadata": {},
   "outputs": [],
   "source": [
    "# Replace with valid values\n",
    "ENDPOINT = \"https://southcentralus.api.cognitive.microsoft.com/\"\n",
    "prediction_key = \"785cd77f9c65406187d6c877c36dbae6\"\n",
    "prediction_resource_id = \"/subscriptions/2d93638d-d187-4bef-bcbe-6a84bf5c22f6/resourceGroups/Parkinglot/providers/Microsoft.CognitiveServices/accounts/Parkinglot\""
   ]
  },
  {
   "cell_type": "code",
   "execution_count": 9,
   "id": "791ac5ba",
   "metadata": {},
   "outputs": [],
   "source": [
    "#credentials = ApiKeyCredentials(in_headers={\"Training-key\": training_key})\n",
    "#trainer = CustomVisionTrainingClient(ENDPOINT, credentials)\n",
    "prediction_credentials = ApiKeyCredentials(in_headers={\"Prediction-key\": prediction_key})\n",
    "predictor = CustomVisionPredictionClient(ENDPOINT, prediction_credentials)\n",
    "\n",
    "\n",
    "publish_iteration_name = \"Parking Detection Model v1\""
   ]
  },
  {
   "cell_type": "code",
   "execution_count": 31,
   "id": "74227748",
   "metadata": {},
   "outputs": [],
   "source": [
    "projectid = '2ce4f2e4-94e2-4d1f-88b1-a3a90cf6e801'"
   ]
  },
  {
   "cell_type": "markdown",
   "id": "bc466320",
   "metadata": {},
   "source": [
    "## for detection"
   ]
  },
  {
   "cell_type": "code",
   "execution_count": 25,
   "id": "d217431e",
   "metadata": {},
   "outputs": [
    {
     "name": "stdout",
     "output_type": "stream",
     "text": [
      "\tvacant: 89.52% bbox.left = 0.38, bbox.top = 0.46, bbox.width = 0.31, bbox.height = 0.36\n",
      "\tvacant: 88.78% bbox.left = 0.14, bbox.top = 0.40, bbox.width = 0.15, bbox.height = 0.17\n",
      "\tvacant: 88.30% bbox.left = 0.36, bbox.top = 0.25, bbox.width = 0.17, bbox.height = 0.11\n",
      "\tvacant: 86.29% bbox.left = 0.57, bbox.top = 0.14, bbox.width = 0.11, bbox.height = 0.10\n",
      "\tvacant: 80.09% bbox.left = 0.52, bbox.top = 0.15, bbox.width = 0.12, bbox.height = 0.11\n",
      "\tvacant: 78.61% bbox.left = 0.45, bbox.top = 0.19, bbox.width = 0.15, bbox.height = 0.10\n",
      "\tvacant: 77.90% bbox.left = 0.62, bbox.top = 0.12, bbox.width = 0.11, bbox.height = 0.08\n",
      "\tvacant: 6.91% bbox.left = 0.19, bbox.top = 0.38, bbox.width = 0.08, bbox.height = 0.10\n",
      "\tvacant: 5.37% bbox.left = 0.27, bbox.top = 0.79, bbox.width = 0.21, bbox.height = 0.21\n",
      "\tvacant: 4.65% bbox.left = 0.00, bbox.top = 0.71, bbox.width = 0.03, bbox.height = 0.09\n",
      "\tvacant: 3.45% bbox.left = 0.68, bbox.top = 0.12, bbox.width = 0.07, bbox.height = 0.07\n",
      "\tvacant: 2.30% bbox.left = 0.58, bbox.top = 0.17, bbox.width = 0.07, bbox.height = 0.08\n",
      "\tvacant: 2.28% bbox.left = 0.39, bbox.top = 0.26, bbox.width = 0.09, bbox.height = 0.08\n",
      "\tvacant: 2.28% bbox.left = 0.46, bbox.top = 0.58, bbox.width = 0.43, bbox.height = 0.38\n",
      "\tvacant: 2.19% bbox.left = 0.43, bbox.top = 0.25, bbox.width = 0.08, bbox.height = 0.09\n",
      "\tvacant: 1.85% bbox.left = 0.70, bbox.top = 0.27, bbox.width = 0.16, bbox.height = 0.19\n",
      "\tvacant: 1.73% bbox.left = 0.15, bbox.top = 0.21, bbox.width = 0.05, bbox.height = 0.07\n",
      "\tvacant: 1.61% bbox.left = 0.41, bbox.top = 0.70, bbox.width = 0.07, bbox.height = 0.11\n",
      "\tvacant: 1.54% bbox.left = 0.55, bbox.top = 0.59, bbox.width = 0.05, bbox.height = 0.08\n",
      "\tvacant: 1.43% bbox.left = 0.79, bbox.top = 0.31, bbox.width = 0.06, bbox.height = 0.10\n",
      "\tvacant: 1.35% bbox.left = 0.85, bbox.top = 0.12, bbox.width = 0.06, bbox.height = 0.09\n",
      "\tvacant: 1.32% bbox.left = 0.75, bbox.top = 0.06, bbox.width = 0.15, bbox.height = 0.24\n",
      "\tvacant: 1.29% bbox.left = 0.96, bbox.top = 0.92, bbox.width = 0.04, bbox.height = 0.08\n",
      "\tvacant: 1.29% bbox.left = 0.29, bbox.top = 0.31, bbox.width = 0.07, bbox.height = 0.10\n",
      "\tvacant: 1.22% bbox.left = 0.50, bbox.top = 0.60, bbox.width = 0.05, bbox.height = 0.07\n",
      "\tvacant: 1.06% bbox.left = 0.30, bbox.top = 0.06, bbox.width = 0.46, bbox.height = 0.34\n",
      "\tvacant: 1.05% bbox.left = 0.75, bbox.top = 0.31, bbox.width = 0.06, bbox.height = 0.10\n",
      "\tvacant: 1.01% bbox.left = 0.24, bbox.top = 0.39, bbox.width = 0.06, bbox.height = 0.09\n",
      "\tvacant: 1.00% bbox.left = 0.44, bbox.top = 0.19, bbox.width = 0.09, bbox.height = 0.08\n",
      "\tvacant: 0.95% bbox.left = 0.96, bbox.top = 0.86, bbox.width = 0.04, bbox.height = 0.10\n",
      "\tvacant: 0.95% bbox.left = 0.71, bbox.top = 0.00, bbox.width = 0.05, bbox.height = 0.08\n",
      "\tvacant: 0.94% bbox.left = 0.75, bbox.top = 0.07, bbox.width = 0.05, bbox.height = 0.06\n",
      "\tvacant: 0.92% bbox.left = 0.66, bbox.top = 0.67, bbox.width = 0.34, bbox.height = 0.33\n",
      "\tvacant: 0.86% bbox.left = 0.50, bbox.top = 0.86, bbox.width = 0.06, bbox.height = 0.10\n",
      "\tvacant: 0.84% bbox.left = 0.53, bbox.top = 0.08, bbox.width = 0.17, bbox.height = 0.20\n",
      "\tvacant: 0.81% bbox.left = 0.65, bbox.top = 0.00, bbox.width = 0.05, bbox.height = 0.06\n",
      "\tvacant: 0.81% bbox.left = 0.15, bbox.top = 0.46, bbox.width = 0.06, bbox.height = 0.09\n",
      "\tvacant: 0.77% bbox.left = 0.36, bbox.top = 0.06, bbox.width = 0.05, bbox.height = 0.08\n",
      "\tvacant: 0.74% bbox.left = 0.19, bbox.top = 0.32, bbox.width = 0.16, bbox.height = 0.22\n",
      "\tvacant: 0.71% bbox.left = 0.84, bbox.top = 0.00, bbox.width = 0.16, bbox.height = 0.18\n",
      "\tvacant: 0.71% bbox.left = 0.10, bbox.top = 0.20, bbox.width = 0.05, bbox.height = 0.08\n",
      "\tvacant: 0.71% bbox.left = 0.00, bbox.top = 0.66, bbox.width = 0.03, bbox.height = 0.09\n",
      "\tvacant: 0.71% bbox.left = 0.40, bbox.top = 0.16, bbox.width = 0.17, bbox.height = 0.17\n",
      "\tvacant: 0.69% bbox.left = 0.13, bbox.top = 0.00, bbox.width = 0.79, bbox.height = 0.58\n",
      "\tvacant: 0.66% bbox.left = 0.35, bbox.top = 0.59, bbox.width = 0.15, bbox.height = 0.25\n",
      "\tvacant: 0.64% bbox.left = 0.75, bbox.top = 0.00, bbox.width = 0.05, bbox.height = 0.09\n",
      "\tvacant: 0.63% bbox.left = 0.96, bbox.top = 0.00, bbox.width = 0.04, bbox.height = 0.07\n",
      "\tvacant: 0.63% bbox.left = 0.86, bbox.top = 0.00, bbox.width = 0.04, bbox.height = 0.07\n",
      "\tvacant: 0.62% bbox.left = 0.95, bbox.top = 0.32, bbox.width = 0.05, bbox.height = 0.08\n",
      "\tvacant: 0.61% bbox.left = 0.71, bbox.top = 0.07, bbox.width = 0.05, bbox.height = 0.07\n",
      "\tvacant: 0.58% bbox.left = 0.55, bbox.top = 0.66, bbox.width = 0.05, bbox.height = 0.08\n",
      "\tvacant: 0.56% bbox.left = 0.44, bbox.top = 0.66, bbox.width = 0.06, bbox.height = 0.08\n",
      "\tvacant: 0.56% bbox.left = 0.10, bbox.top = 0.25, bbox.width = 0.05, bbox.height = 0.08\n",
      "\tvacant: 0.53% bbox.left = 0.24, bbox.top = 0.45, bbox.width = 0.07, bbox.height = 0.08\n",
      "\tvacant: 0.53% bbox.left = 0.61, bbox.top = 0.00, bbox.width = 0.04, bbox.height = 0.06\n",
      "\tvacant: 0.52% bbox.left = 0.24, bbox.top = 0.13, bbox.width = 0.05, bbox.height = 0.08\n",
      "\tvacant: 0.51% bbox.left = 0.21, bbox.top = 0.75, bbox.width = 0.44, bbox.height = 0.25\n",
      "\tvacant: 0.51% bbox.left = 0.79, bbox.top = 0.26, bbox.width = 0.06, bbox.height = 0.09\n"
     ]
    }
   ],
   "source": [
    "# Now there is a trained endpoint that can be used to make a prediction\n",
    "base_image_location = \"C:/Users/Mac/Desktop/experimental/exp2\"\n",
    "# Open the sample image and get back the prediction results.\n",
    "with open(os.path.join (base_image_location, \"GOPR0042.JPG\"), mode=\"rb\") as test_data:\n",
    "    results = predictor.detect_image(projectid, publish_iteration_name, test_data)\n",
    "\n",
    "# Display the results.    \n",
    "for prediction in results.predictions:\n",
    "    print(\"\\t\" + prediction.tag_name + \": {0:.2f}% bbox.left = {1:.2f}, bbox.top = {2:.2f}, bbox.width = {3:.2f}, bbox.height = {4:.2f}\".format(prediction.probability * 100, prediction.bounding_box.left, prediction.bounding_box.top, prediction.bounding_box.width, prediction.bounding_box.height))"
   ]
  },
  {
   "cell_type": "markdown",
   "id": "89d34f35",
   "metadata": {},
   "source": [
    "## for json file"
   ]
  },
  {
   "cell_type": "code",
   "execution_count": 23,
   "id": "36b522d6",
   "metadata": {},
   "outputs": [
    {
     "name": "stdout",
     "output_type": "stream",
     "text": [
      "b'{\"id\":\"6be8b6c6-e009-4e3d-8049-7e45d92f5a63\",\"project\":\"2ce4f2e4-94e2-4d1f-88b1-a3a90cf6e801\",\"iteration\":\"34f419d9-42ee-453d-b6fb-65af737bce1f\",\"created\":\"2021-08-18T09:08:03.658Z\",\"predictions\":[{\"probability\":0.89521503,\"tagId\":\"e8d30a91-dcae-4351-94f5-3815d89e3d2f\",\"tagName\":\"vacant\",\"boundingBox\":{\"left\":0.38388798,\"top\":0.46412063,\"width\":0.31079116,\"height\":0.35890794}},{\"probability\":0.8877904,\"tagId\":\"e8d30a91-dcae-4351-94f5-3815d89e3d2f\",\"tagName\":\"vacant\",\"boundingBox\":{\"left\":0.13614851,\"top\":0.39585942,\"width\":0.14856845,\"height\":0.1717915}},{\"probability\":0.88302,\"tagId\":\"e8d30a91-dcae-4351-94f5-3815d89e3d2f\",\"tagName\":\"vacant\",\"boundingBox\":{\"left\":0.35963628,\"top\":0.24675915,\"width\":0.16608432,\"height\":0.10990372}},{\"probability\":0.8629102,\"tagId\":\"e8d30a91-dcae-4351-94f5-3815d89e3d2f\",\"tagName\":\"vacant\",\"boundingBox\":{\"left\":0.567947,\"top\":0.1355195,\"width\":0.10937053,\"height\":0.099262446}},{\"probability\":0.80091035,\"tagId\":\"e8d30a91-dcae-4351-94f5-3815d89e3d2f\",\"tagName\":\"vacant\",\"boundingBox\":{\"left\":0.52470744,\"top\":0.15272555,\"width\":0.11785263,\"height\":0.10839084}},{\"probability\":0.78608865,\"tagId\":\"e8d30a91-dcae-4351-94f5-3815d89e3d2f\",\"tagName\":\"vacant\",\"boundingBox\":{\"left\":0.44810402,\"top\":0.18859765,\"width\":0.14757073,\"height\":0.10197905}},{\"probability\":0.7790411,\"tagId\":\"e8d30a91-dcae-4351-94f5-3815d89e3d2f\",\"tagName\":\"vacant\",\"boundingBox\":{\"left\":0.61585957,\"top\":0.115935504,\"width\":0.10576421,\"height\":0.08416271}},{\"probability\":0.069128394,\"tagId\":\"e8d30a91-dcae-4351-94f5-3815d89e3d2f\",\"tagName\":\"vacant\",\"boundingBox\":{\"left\":0.18551987,\"top\":0.38169205,\"width\":0.082672775,\"height\":0.09975082}},{\"probability\":0.053703457,\"tagId\":\"e8d30a91-dcae-4351-94f5-3815d89e3d2f\",\"tagName\":\"vacant\",\"boundingBox\":{\"left\":0.27161783,\"top\":0.7862389,\"width\":0.21308613,\"height\":0.21376008}},{\"probability\":0.046454314,\"tagId\":\"e8d30a91-dcae-4351-94f5-3815d89e3d2f\",\"tagName\":\"vacant\",\"boundingBox\":{\"left\":0.0015360657,\"top\":0.7078577,\"width\":0.025333717,\"height\":0.09283364}},{\"probability\":0.034486018,\"tagId\":\"e8d30a91-dcae-4351-94f5-3815d89e3d2f\",\"tagName\":\"vacant\",\"boundingBox\":{\"left\":0.67946154,\"top\":0.12282449,\"width\":0.067572474,\"height\":0.073771656}},{\"probability\":0.02295395,\"tagId\":\"e8d30a91-dcae-4351-94f5-3815d89e3d2f\",\"tagName\":\"vacant\",\"boundingBox\":{\"left\":0.58242506,\"top\":0.17209817,\"width\":0.06577116,\"height\":0.08453612}},{\"probability\":0.022840481,\"tagId\":\"e8d30a91-dcae-4351-94f5-3815d89e3d2f\",\"tagName\":\"vacant\",\"boundingBox\":{\"left\":0.3853857,\"top\":0.26052892,\"width\":0.09440017,\"height\":0.08322725}},{\"probability\":0.022800256,\"tagId\":\"e8d30a91-dcae-4351-94f5-3815d89e3d2f\",\"tagName\":\"vacant\",\"boundingBox\":{\"left\":0.45891672,\"top\":0.58220494,\"width\":0.4304204,\"height\":0.3771658}},{\"probability\":0.021855839,\"tagId\":\"e8d30a91-dcae-4351-94f5-3815d89e3d2f\",\"tagName\":\"vacant\",\"boundingBox\":{\"left\":0.43370265,\"top\":0.25029093,\"width\":0.08204311,\"height\":0.088814795}},{\"probability\":0.018478906,\"tagId\":\"e8d30a91-dcae-4351-94f5-3815d89e3d2f\",\"tagName\":\"vacant\",\"boundingBox\":{\"left\":0.7001413,\"top\":0.2668714,\"width\":0.15564442,\"height\":0.19217083}},{\"probability\":0.01730861,\"tagId\":\"e8d30a91-dcae-4351-94f5-3815d89e3d2f\",\"tagName\":\"vacant\",\"boundingBox\":{\"left\":0.14862575,\"top\":0.20728944,\"width\":0.054410532,\"height\":0.07155003}},{\"probability\":0.016138557,\"tagId\":\"e8d30a91-dcae-4351-94f5-3815d89e3d2f\",\"tagName\":\"vacant\",\"boundingBox\":{\"left\":0.40661392,\"top\":0.7024499,\"width\":0.06565422,\"height\":0.107687056}},{\"probability\":0.01537621,\"tagId\":\"e8d30a91-dcae-4351-94f5-3815d89e3d2f\",\"tagName\":\"vacant\",\"boundingBox\":{\"left\":0.5452553,\"top\":0.5921664,\"width\":0.05417615,\"height\":0.08394587}},{\"probability\":0.01430645,\"tagId\":\"e8d30a91-dcae-4351-94f5-3815d89e3d2f\",\"tagName\":\"vacant\",\"boundingBox\":{\"left\":0.785669,\"top\":0.30936605,\"width\":0.06128055,\"height\":0.097486615}},{\"probability\":0.013509895,\"tagId\":\"e8d30a91-dcae-4351-94f5-3815d89e3d2f\",\"tagName\":\"vacant\",\"boundingBox\":{\"left\":0.85261124,\"top\":0.123857915,\"width\":0.05984038,\"height\":0.089316875}},{\"probability\":0.013202455,\"tagId\":\"e8d30a91-dcae-4351-94f5-3815d89e3d2f\",\"tagName\":\"vacant\",\"boundingBox\":{\"left\":0.74797744,\"top\":0.058706045,\"width\":0.15237719,\"height\":0.2361024}},{\"probability\":0.012936325,\"tagId\":\"e8d30a91-dcae-4351-94f5-3815d89e3d2f\",\"tagName\":\"vacant\",\"boundingBox\":{\"left\":0.9584236,\"top\":0.92089707,\"width\":0.04118669,\"height\":0.07751441}},{\"probability\":0.0129104005,\"tagId\":\"e8d30a91-dcae-4351-94f5-3815d89e3d2f\",\"tagName\":\"vacant\",\"boundingBox\":{\"left\":0.29189673,\"top\":0.31205124,\"width\":0.0727199,\"height\":0.096239984}},{\"probability\":0.012209778,\"tagId\":\"e8d30a91-dcae-4351-94f5-3815d89e3d2f\",\"tagName\":\"vacant\",\"boundingBox\":{\"left\":0.50235057,\"top\":0.59645414,\"width\":0.053180337,\"height\":0.07498729}},{\"probability\":0.010590056,\"tagId\":\"e8d30a91-dcae-4351-94f5-3815d89e3d2f\",\"tagName\":\"vacant\",\"boundingBox\":{\"left\":0.2951019,\"top\":0.0625162,\"width\":0.45964405,\"height\":0.34262305}},{\"probability\":0.010515394,\"tagId\":\"e8d30a91-dcae-4351-94f5-3815d89e3d2f\",\"tagName\":\"vacant\",\"boundingBox\":{\"left\":0.75321156,\"top\":0.31328765,\"width\":0.05834204,\"height\":0.09727484}},{\"probability\":0.01007286,\"tagId\":\"e8d30a91-dcae-4351-94f5-3815d89e3d2f\",\"tagName\":\"vacant\",\"boundingBox\":{\"left\":0.23708296,\"top\":0.38979366,\"width\":0.06469327,\"height\":0.09062901}},{\"probability\":0.009981652,\"tagId\":\"e8d30a91-dcae-4351-94f5-3815d89e3d2f\",\"tagName\":\"vacant\",\"boundingBox\":{\"left\":0.44283006,\"top\":0.19315326,\"width\":0.08690366,\"height\":0.081985146}},{\"probability\":0.009532629,\"tagId\":\"e8d30a91-dcae-4351-94f5-3815d89e3d2f\",\"tagName\":\"vacant\",\"boundingBox\":{\"left\":0.96258307,\"top\":0.8585066,\"width\":0.03741592,\"height\":0.10483998}},{\"probability\":0.009532227,\"tagId\":\"e8d30a91-dcae-4351-94f5-3815d89e3d2f\",\"tagName\":\"vacant\",\"boundingBox\":{\"left\":0.70542586,\"top\":0.00017013773,\"width\":0.04601407,\"height\":0.07517573}},{\"probability\":0.009434507,\"tagId\":\"e8d30a91-dcae-4351-94f5-3815d89e3d2f\",\"tagName\":\"vacant\",\"boundingBox\":{\"left\":0.7457276,\"top\":0.07372145,\"width\":0.054081738,\"height\":0.063981995}},{\"probability\":0.00919154,\"tagId\":\"e8d30a91-dcae-4351-94f5-3815d89e3d2f\",\"tagName\":\"vacant\",\"boundingBox\":{\"left\":0.6600038,\"top\":0.66507965,\"width\":0.3399952,\"height\":0.33206034}},{\"probability\":0.008628881,\"tagId\":\"e8d30a91-dcae-4351-94f5-3815d89e3d2f\",\"tagName\":\"vacant\",\"boundingBox\":{\"left\":0.4975046,\"top\":0.8629188,\"width\":0.05518806,\"height\":0.09600896}},{\"probability\":0.0083726905,\"tagId\":\"e8d30a91-dcae-4351-94f5-3815d89e3d2f\",\"tagName\":\"vacant\",\"boundingBox\":{\"left\":0.5336137,\"top\":0.08040469,\"width\":0.16778272,\"height\":0.19798237}},{\"probability\":0.008085512,\"tagId\":\"e8d30a91-dcae-4351-94f5-3815d89e3d2f\",\"tagName\":\"vacant\",\"boundingBox\":{\"left\":0.6538926,\"top\":0.0,\"width\":0.046786487,\"height\":0.060616426}},{\"probability\":0.008051778,\"tagId\":\"e8d30a91-dcae-4351-94f5-3815d89e3d2f\",\"tagName\":\"vacant\",\"boundingBox\":{\"left\":0.14922222,\"top\":0.45887518,\"width\":0.064223185,\"height\":0.08721864}},{\"probability\":0.0076820115,\"tagId\":\"e8d30a91-dcae-4351-94f5-3815d89e3d2f\",\"tagName\":\"vacant\",\"boundingBox\":{\"left\":0.35574993,\"top\":0.059422877,\"width\":0.05023426,\"height\":0.075944886}},{\"probability\":0.007408272,\"tagId\":\"e8d30a91-dcae-4351-94f5-3815d89e3d2f\",\"tagName\":\"vacant\",\"boundingBox\":{\"left\":0.18598258,\"top\":0.3178823,\"width\":0.16131932,\"height\":0.21987325}},{\"probability\":0.007120859,\"tagId\":\"e8d30a91-dcae-4351-94f5-3815d89e3d2f\",\"tagName\":\"vacant\",\"boundingBox\":{\"left\":0.84093326,\"top\":0.0,\"width\":0.15906572,\"height\":0.1833234}},{\"probability\":0.0071093854,\"tagId\":\"e8d30a91-dcae-4351-94f5-3815d89e3d2f\",\"tagName\":\"vacant\",\"boundingBox\":{\"left\":0.1001652,\"top\":0.19942337,\"width\":0.05277124,\"height\":0.07736969}},{\"probability\":0.0071067,\"tagId\":\"e8d30a91-dcae-4351-94f5-3815d89e3d2f\",\"tagName\":\"vacant\",\"boundingBox\":{\"left\":0.002840899,\"top\":0.6631186,\"width\":0.034657232,\"height\":0.09175706}},{\"probability\":0.007055997,\"tagId\":\"e8d30a91-dcae-4351-94f5-3815d89e3d2f\",\"tagName\":\"vacant\",\"boundingBox\":{\"left\":0.39836672,\"top\":0.15879127,\"width\":0.16933993,\"height\":0.17241818}},{\"probability\":0.0069438117,\"tagId\":\"e8d30a91-dcae-4351-94f5-3815d89e3d2f\",\"tagName\":\"vacant\",\"boundingBox\":{\"left\":0.12910715,\"top\":0.0,\"width\":0.7921604,\"height\":0.5755501}},{\"probability\":0.0065883077,\"tagId\":\"e8d30a91-dcae-4351-94f5-3815d89e3d2f\",\"tagName\":\"vacant\",\"boundingBox\":{\"left\":0.34933352,\"top\":0.5859301,\"width\":0.15118492,\"height\":0.24923575}},{\"probability\":0.006422815,\"tagId\":\"e8d30a91-dcae-4351-94f5-3815d89e3d2f\",\"tagName\":\"vacant\",\"boundingBox\":{\"left\":0.7465987,\"top\":0.0,\"width\":0.05304879,\"height\":0.086379215}},{\"probability\":0.0063439333,\"tagId\":\"e8d30a91-dcae-4351-94f5-3815d89e3d2f\",\"tagName\":\"vacant\",\"boundingBox\":{\"left\":0.96157277,\"top\":0.0,\"width\":0.036116123,\"height\":0.06849814}},{\"probability\":0.0062618596,\"tagId\":\"e8d30a91-dcae-4351-94f5-3815d89e3d2f\",\"tagName\":\"vacant\",\"boundingBox\":{\"left\":0.8601402,\"top\":0.00039283186,\"width\":0.035486102,\"height\":0.07285992}},{\"probability\":0.006246283,\"tagId\":\"e8d30a91-dcae-4351-94f5-3815d89e3d2f\",\"tagName\":\"vacant\",\"boundingBox\":{\"left\":0.95319,\"top\":0.3232859,\"width\":0.046808958,\"height\":0.08271611}},{\"probability\":0.0060728407,\"tagId\":\"e8d30a91-dcae-4351-94f5-3815d89e3d2f\",\"tagName\":\"vacant\",\"boundingBox\":{\"left\":0.7107185,\"top\":0.07075577,\"width\":0.04930502,\"height\":0.068277396}},{\"probability\":0.005768182,\"tagId\":\"e8d30a91-dcae-4351-94f5-3815d89e3d2f\",\"tagName\":\"vacant\",\"boundingBox\":{\"left\":0.55065775,\"top\":0.65872115,\"width\":0.049598157,\"height\":0.07703835}},{\"probability\":0.005600596,\"tagId\":\"e8d30a91-dcae-4351-94f5-3815d89e3d2f\",\"tagName\":\"vacant\",\"boundingBox\":{\"left\":0.4438064,\"top\":0.66217256,\"width\":0.060082912,\"height\":0.08330327}},{\"probability\":0.005577158,\"tagId\":\"e8d30a91-dcae-4351-94f5-3815d89e3d2f\",\"tagName\":\"vacant\",\"boundingBox\":{\"left\":0.10349919,\"top\":0.25192374,\"width\":0.051255718,\"height\":0.075914055}},{\"probability\":0.0053016585,\"tagId\":\"e8d30a91-dcae-4351-94f5-3815d89e3d2f\",\"tagName\":\"vacant\",\"boundingBox\":{\"left\":0.23523472,\"top\":0.4542311,\"width\":0.0650707,\"height\":0.075802416}},{\"probability\":0.00528194,\"tagId\":\"e8d30a91-dcae-4351-94f5-3815d89e3d2f\",\"tagName\":\"vacant\",\"boundingBox\":{\"left\":0.61001956,\"top\":0.0,\"width\":0.04354644,\"height\":0.05913672}},{\"probability\":0.005238367,\"tagId\":\"e8d30a91-dcae-4351-94f5-3815d89e3d2f\",\"tagName\":\"vacant\",\"boundingBox\":{\"left\":0.24338034,\"top\":0.1279358,\"width\":0.05450195,\"height\":0.08048943}},{\"probability\":0.005124609,\"tagId\":\"e8d30a91-dcae-4351-94f5-3815d89e3d2f\",\"tagName\":\"vacant\",\"boundingBox\":{\"left\":0.20789076,\"top\":0.7531461,\"width\":0.43832982,\"height\":0.24685287}},{\"probability\":0.0050757825,\"tagId\":\"e8d30a91-dcae-4351-94f5-3815d89e3d2f\",\"tagName\":\"vacant\",\"boundingBox\":{\"left\":0.79233605,\"top\":0.25908482,\"width\":0.055392146,\"height\":0.08845216}}]}'\n"
     ]
    }
   ],
   "source": [
    "import requests\n",
    "import json\n",
    "image_file = 'C:/Users/Mac/Desktop/experimental/exp2/GOPR0042.JPG'\n",
    "prediction_key = '785cd77f9c65406187d6c877c36dbae6'\n",
    "url=\"https://southcentralus.api.cognitive.microsoft.com/customvision/v3.0/Prediction/2ce4f2e4-94e2-4d1f-88b1-a3a90cf6e801/detect/iterations/Parking%20Detection%20Model%20v1/image\"\n",
    "headers={'content-type':'application/octet-stream','Prediction-Key': prediction_key}\n",
    "r =requests.post(url,data=open(image_file,\"rb\"),headers=headers)\n",
    "print(r.content)"
   ]
  }
 ],
 "metadata": {
  "kernelspec": {
   "display_name": "Python 3",
   "language": "python",
   "name": "python3"
  },
  "language_info": {
   "codemirror_mode": {
    "name": "ipython",
    "version": 3
   },
   "file_extension": ".py",
   "mimetype": "text/x-python",
   "name": "python",
   "nbconvert_exporter": "python",
   "pygments_lexer": "ipython3",
   "version": "3.8.8"
  }
 },
 "nbformat": 4,
 "nbformat_minor": 5
}
